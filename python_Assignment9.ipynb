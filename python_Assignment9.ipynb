{
 "cells": [
  {
   "cell_type": "code",
   "execution_count": null,
   "id": "f4ea7f2d",
   "metadata": {},
   "outputs": [],
   "source": [
    "1. To what does a relative path refer?\n",
    "\n",
    "ANS:\n",
    "    A relative path points to a location that is relative to a current directory.\n",
    "    Relative paths make use of two special symbols, a dot (.) and a double-dot (..), \n",
    "    which translate into the current directory and the parent directory."
   ]
  },
  {
   "cell_type": "code",
   "execution_count": null,
   "id": "a9d18e9d",
   "metadata": {},
   "outputs": [],
   "source": [
    "2. What does an absolute path start with your operating system?\n",
    "\n",
    "ANS:\n",
    "    An absolute path is a path that contains the entire path to the file or directory that you need to access.\n",
    "    This path will begin at the home directory of your computer and will end with the file or directory \n",
    "    that you wish to access. Absolute paths ensure that Python can find the exact file on your computer"
   ]
  },
  {
   "cell_type": "code",
   "execution_count": null,
   "id": "d92f0bc0",
   "metadata": {},
   "outputs": [],
   "source": [
    "3. What do the functions os.getcwd() and os.chdir() do?\n",
    "\n",
    "ANS:\n",
    "    getcwd() : CWD stands for Current Working Directory. This function allows you to see what your\n",
    "        current working directory is. \n",
    "    chdir(\"path-to-dir\") : Short for CHange DIRectory, \n",
    "    this function allows you to set the current working directory to a path of your choice."
   ]
  },
  {
   "cell_type": "code",
   "execution_count": null,
   "id": "f2b365d5",
   "metadata": {},
   "outputs": [],
   "source": [
    "4. What are the . and .. folders?\n",
    "\n",
    "ANS:\n",
    "    The . folder is the current folder, and .. is the parent folder.\n",
    "    "
   ]
  },
  {
   "cell_type": "code",
   "execution_count": null,
   "id": "311b4d49",
   "metadata": {},
   "outputs": [],
   "source": [
    "5. In C:\\bacon\\eggs\\spam.txt, which part is the dir name, and which part is the base name?\n",
    "    \n",
    "    ANS:\n",
    "        C:\\bacon\\eggs is the dir name, while spam. txt is the base name."
   ]
  },
  {
   "cell_type": "code",
   "execution_count": null,
   "id": "855c1b40",
   "metadata": {},
   "outputs": [],
   "source": [
    "6. What are the three “mode” arguments that can be passed to the open() function?\n",
    "\n",
    "ANS:\n",
    "    The string 'r' for read mode, 'w' for write mode, and 'a' for append mode"
   ]
  },
  {
   "cell_type": "code",
   "execution_count": null,
   "id": "63dd26ba",
   "metadata": {},
   "outputs": [],
   "source": [
    "7. What happens if an existing file is opened in write mode?\n",
    "\n",
    "ANS:\n",
    "    An existing file opened in write mode is erased and completely overwritten."
   ]
  },
  {
   "cell_type": "code",
   "execution_count": null,
   "id": "a663625a",
   "metadata": {},
   "outputs": [],
   "source": [
    "8. How do you tell the difference between read() and readlines()?\n",
    "\n",
    "ANS:\n",
    "    The main difference is that read() will read the whole file at once and then print out the first characters\n",
    "    that take up as many bytes as you specify in the parenthesis versus the readline() that will read and print out \n",
    "    only the first characters that take up as many bytes as you specify in the parenthesis."
   ]
  },
  {
   "cell_type": "code",
   "execution_count": null,
   "id": "51ec55c4",
   "metadata": {},
   "outputs": [],
   "source": [
    "9. What data structure does a shelf value resemble?\n",
    "\n",
    "ANS:\n",
    "    A shelf value resembles a dictionary value; it has keys and values,\n",
    "    along with keys() and values() methods that work similarly to the dictionary methods of the same names."
   ]
  }
 ],
 "metadata": {
  "kernelspec": {
   "display_name": "Python 3 (ipykernel)",
   "language": "python",
   "name": "python3"
  },
  "language_info": {
   "codemirror_mode": {
    "name": "ipython",
    "version": 3
   },
   "file_extension": ".py",
   "mimetype": "text/x-python",
   "name": "python",
   "nbconvert_exporter": "python",
   "pygments_lexer": "ipython3",
   "version": "3.9.7"
  }
 },
 "nbformat": 4,
 "nbformat_minor": 5
}
